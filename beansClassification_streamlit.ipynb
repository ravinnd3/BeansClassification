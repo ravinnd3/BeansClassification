{
 "cells": [
  {
   "cell_type": "code",
   "execution_count": null,
   "id": "a75f55ae-45f4-4f8b-b44b-e6c3e6296fc7",
   "metadata": {},
   "outputs": [],
   "source": []
  }
 ],
 "metadata": {
  "kernelspec": {
   "display_name": "",
   "name": ""
  },
  "language_info": {
   "name": ""
  }
 },
 "nbformat": 4,
 "nbformat_minor": 5
}
